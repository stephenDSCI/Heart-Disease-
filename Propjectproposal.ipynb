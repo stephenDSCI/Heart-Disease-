{
 "cells": [
  {
   "cell_type": "markdown",
   "id": "a0407fb0-6bc2-4205-b798-fa7411f9e33f",
   "metadata": {},
   "source": [
    "<font size=\"8\"> Group Proposal </font> \n",
    "\n",
    "<font size=\"5\"> Diagnosing Coronary Artery Disease using Classification </font> "
   ]
  },
  {
   "cell_type": "code",
   "execution_count": 4,
   "id": "01f3433c-a38a-4996-a4f7-b422a5f2a647",
   "metadata": {},
   "outputs": [
    {
     "ename": "ERROR",
     "evalue": "Error: 'processed.cleveland.data' does not exist in current working directory ('/home/jovyan/work/Heart-Disease-').\n",
     "output_type": "error",
     "traceback": [
      "Error: 'processed.cleveland.data' does not exist in current working directory ('/home/jovyan/work/Heart-Disease-').\nTraceback:\n",
      "1. rename(read_delim(\"processed.cleveland.data\", delim = \",\", col_names = FALSE), \n .     age = X1, sex = X2, cp = X3, trestbps = X4, chol = X5, fbs = X6, \n .     restecg = X7, thalach = X8, exang = X9, oldpeak = X10, slope = X11, \n .     ca = X12, thal = X13, num = X14)",
      "2. read_delim(\"processed.cleveland.data\", delim = \",\", col_names = FALSE)",
      "3. vroom::vroom(file, delim = delim, col_names = col_names, col_types = col_types, \n .     col_select = {\n .         {\n .             col_select\n .         }\n .     }, id = id, .name_repair = name_repair, skip = skip, n_max = n_max, \n .     na = na, quote = quote, comment = comment, skip_empty_rows = skip_empty_rows, \n .     trim_ws = trim_ws, escape_double = escape_double, escape_backslash = escape_backslash, \n .     locale = locale, guess_max = guess_max, progress = progress, \n .     altrep = lazy, show_col_types = show_col_types, num_threads = num_threads)",
      "4. vroom_(file, delim = delim %||% col_types$delim, col_names = col_names, \n .     col_types = col_types, id = id, skip = skip, col_select = col_select, \n .     name_repair = .name_repair, na = na, quote = quote, trim_ws = trim_ws, \n .     escape_double = escape_double, escape_backslash = escape_backslash, \n .     comment = comment, skip_empty_rows = skip_empty_rows, locale = locale, \n .     guess_max = guess_max, n_max = n_max, altrep = vroom_altrep(altrep), \n .     num_threads = num_threads, progress = progress)",
      "5. (function (path, write = FALSE) \n . {\n .     if (is.raw(path)) {\n .         return(rawConnection(path, \"rb\"))\n .     }\n .     if (!is.character(path)) {\n .         return(path)\n .     }\n .     if (is_url(path)) {\n .         if (requireNamespace(\"curl\", quietly = TRUE)) {\n .             con <- curl::curl(path)\n .         }\n .         else {\n .             inform(\"`curl` package not installed, falling back to using `url()`\")\n .             con <- url(path)\n .         }\n .         ext <- tolower(tools::file_ext(path))\n .         return(switch(ext, zip = , bz2 = , xz = {\n .             close(con)\n .             stop(\"Reading from remote `\", ext, \"` compressed files is not supported,\\n\", \n .                 \"  download the files locally first.\", call. = FALSE)\n .         }, gz = gzcon(con), con))\n .     }\n .     path <- enc2utf8(path)\n .     p <- split_path_ext(basename_utf8(path))\n .     if (write) {\n .         path <- normalizePath_utf8(path, mustWork = FALSE)\n .     }\n .     else {\n .         path <- check_path(path)\n .     }\n .     if (is_installed(\"archive\")) {\n .         formats <- archive_formats(p$extension)\n .         extension <- p$extension\n .         while (is.null(formats) && nzchar(extension)) {\n .             extension <- split_path_ext(extension)$extension\n .             formats <- archive_formats(extension)\n .         }\n .         if (!is.null(formats)) {\n .             p$extension <- extension\n .             if (write) {\n .                 if (is.null(formats[[1]])) {\n .                   return(archive::file_write(path, filter = formats[[2]]))\n .                 }\n .                 return(archive::archive_write(path, p$path, format = formats[[1]], \n .                   filter = formats[[2]]))\n .             }\n .             if (is.null(formats[[1]])) {\n .                 return(archive::file_read(path, filter = formats[[2]]))\n .             }\n .             return(archive::archive_read(path, format = formats[[1]], \n .                 filter = formats[[2]]))\n .         }\n .     }\n .     if (!write) {\n .         compression <- detect_compression(path)\n .     }\n .     else {\n .         compression <- NA\n .     }\n .     if (is.na(compression)) {\n .         compression <- tools::file_ext(path)\n .     }\n .     if (write && compression == \"zip\") {\n .         stop(\"Can only read from, not write to, .zip\", call. = FALSE)\n .     }\n .     switch(compression, gz = gzfile(path, \"\"), bz2 = bzfile(path, \n .         \"\"), xz = xzfile(path, \"\"), zip = zipfile(path, \"\"), \n .         if (!has_trailing_newline(path)) {\n .             file(path)\n .         } else {\n .             path\n .         })\n . })(\"processed.cleveland.data\")",
      "6. check_path(path)",
      "7. stop(\"'\", path, \"' does not exist\", if (!is_absolute_path(path)) {\n .     paste0(\" in current working directory ('\", getwd(), \"')\")\n . }, \".\", call. = FALSE)"
     ]
    }
   ],
   "source": [
    "library(tidyverse)\n",
    "process_data_cleveland <-read_delim(\"processed.cleveland.data\", delim=\",\", col_names = FALSE)|>\n",
    "rename(\n",
    "\n",
    "    age = X1,\n",
    "    sex = X2,\n",
    "    cp=X3,\n",
    "    trestbps = X4,\n",
    "    chol = X5,\n",
    "    fbs= X6, \n",
    "    restecg  =X7,\n",
    "    thalach =X8,\n",
    "    exang=X9,\n",
    "    oldpeak=X10,\n",
    "    slope=X11,\n",
    "    ca =X12,\n",
    "    thal=X13,\n",
    "    num =X14)\n",
    "\n",
    "process_data_cleveland\n"
   ]
  },
  {
   "cell_type": "code",
   "execution_count": 2,
   "id": "2b4d23f0-d87d-4e3d-aff7-a40df2358ccd",
   "metadata": {},
   "outputs": [
    {
     "ename": "ERROR",
     "evalue": "Error in eval(expr, envir, enclos): object 'process_data_cleveland' not found\n",
     "output_type": "error",
     "traceback": [
      "Error in eval(expr, envir, enclos): object 'process_data_cleveland' not found\nTraceback:\n",
      "1. summarize(group_by(process_data_cleveland, num), n = n())",
      "2. group_by(process_data_cleveland, num)"
     ]
    }
   ],
   "source": [
    "process_data_cleveland |>\n",
    "  group_by(num) |>\n",
    "  summarize(n = n())"
   ]
  },
  {
   "cell_type": "code",
   "execution_count": null,
   "id": "68ceebc8-a9f9-4f3f-b7d6-8ce6152e68b9",
   "metadata": {},
   "outputs": [],
   "source": []
  },
  {
   "cell_type": "code",
   "execution_count": null,
   "id": "07647efe-cd7f-41b6-a2ac-ddfb486519c1",
   "metadata": {},
   "outputs": [],
   "source": []
  },
  {
   "cell_type": "code",
   "execution_count": null,
   "id": "e6790a68-8b44-49dd-9d89-e128f546b5d0",
   "metadata": {},
   "outputs": [],
   "source": []
  }
 ],
 "metadata": {
  "kernelspec": {
   "display_name": "R",
   "language": "R",
   "name": "ir"
  },
  "language_info": {
   "codemirror_mode": "r",
   "file_extension": ".r",
   "mimetype": "text/x-r-source",
   "name": "R",
   "pygments_lexer": "r",
   "version": "4.3.1"
  }
 },
 "nbformat": 4,
 "nbformat_minor": 5
}
